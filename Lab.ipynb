{
 "cells": [
  {
   "cell_type": "code",
   "execution_count": 1,
   "metadata": {},
   "outputs": [],
   "source": [
    "import numpy as np\n",
    "import pandas as pd\n",
    "from datasets import load_from_disk"
   ]
  },
  {
   "cell_type": "code",
   "execution_count": 27,
   "metadata": {},
   "outputs": [],
   "source": [
    "dataset = 'grammars'\n",
    "train_dataset = load_from_disk(\"datasets/\" + dataset)['train']\n",
    "influence = pd.read_csv('cache/Llama-2-7b-chat-hf/grammars_10_inf.csv')"
   ]
  },
  {
   "cell_type": "code",
   "execution_count": 3,
   "metadata": {},
   "outputs": [],
   "source": [
    "def select_by_if(influence, train_dataset):\n",
    "    influential, p, r, v = [], [], [], []\n",
    "    for i in range(len(influence)):\n",
    "        array = -(influence.loc[i].to_numpy())\n",
    "        influential.append(array.argmax())\n",
    "        \n",
    "    for idx in influential:\n",
    "        p.append(train_dataset['prompts'][idx])\n",
    "        r.append(train_dataset['response'][idx])\n",
    "        v.append(train_dataset['variation'][idx])\n",
    "\n",
    "    return p, r, v"
   ]
  },
  {
   "cell_type": "code",
   "execution_count": 28,
   "metadata": {},
   "outputs": [
    {
     "data": {
      "text/plain": [
       "Counter({'Double Every Consonant': 44,\n",
       "         'Capitalize Every Other Letter': 19,\n",
       "         'Repeat Each Word Twice': 11,\n",
       "         'Reverse Order of Words': 9,\n",
       "         'Replace Vowels with *': 5,\n",
       "         'Remove All Consonants': 5,\n",
       "         'Insert Number 1 Between Every Word': 3,\n",
       "         'Remove All Vowels': 2,\n",
       "         'Capitalize Every Word': 1,\n",
       "         \"Add 'ly' To End of Each Word\": 1})"
      ]
     },
     "execution_count": 28,
     "metadata": {},
     "output_type": "execute_result"
    }
   ],
   "source": [
    "from collections import Counter\n",
    "\n",
    "p, r, v = select_by_if(influence, train_dataset)\n",
    "Counter(v)"
   ]
  },
  {
   "cell_type": "code",
   "execution_count": 29,
   "metadata": {},
   "outputs": [
    {
     "data": {
      "application/vnd.jupyter.widget-view+json": {
       "model_id": "de0ad432eea54e5fba68f335731d0665",
       "version_major": 2,
       "version_minor": 0
      },
      "text/plain": [
       "Saving the dataset (0/1 shards):   0%|          | 0/100 [00:00<?, ? examples/s]"
      ]
     },
     "metadata": {},
     "output_type": "display_data"
    }
   ],
   "source": [
    "from datasets import Dataset, DatasetDict\n",
    "\n",
    "DatasetDict({'train': Dataset.from_dict({'prompts': p, 'response': r, 'variation': v})}).save_to_disk('datasets/gra')"
   ]
  },
  {
   "cell_type": "code",
   "execution_count": null,
   "metadata": {},
   "outputs": [],
   "source": []
  }
 ],
 "metadata": {
  "kernelspec": {
   "display_name": "base",
   "language": "python",
   "name": "python3"
  },
  "language_info": {
   "codemirror_mode": {
    "name": "ipython",
    "version": 3
   },
   "file_extension": ".py",
   "mimetype": "text/x-python",
   "name": "python",
   "nbconvert_exporter": "python",
   "pygments_lexer": "ipython3",
   "version": "3.11.5"
  }
 },
 "nbformat": 4,
 "nbformat_minor": 2
}
